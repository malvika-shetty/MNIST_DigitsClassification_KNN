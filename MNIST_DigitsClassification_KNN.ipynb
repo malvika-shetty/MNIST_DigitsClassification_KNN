{
 "cells": [
  {
   "cell_type": "markdown",
   "metadata": {},
   "source": [
    "# Visualizing The Data"
   ]
  },
  {
   "cell_type": "code",
   "execution_count": 3,
   "metadata": {},
   "outputs": [
    {
     "name": "stdout",
     "output_type": "stream",
     "text": [
      "The class label of the first example: [5]\n"
     ]
    },
    {
     "data": {
      "text/plain": [
       "<matplotlib.image.AxesImage at 0x118a6efff70>"
      ]
     },
     "execution_count": 3,
     "metadata": {},
     "output_type": "execute_result"
    },
    {
     "data": {
      "image/png": "[encoded data removed]",
      "text/plain": [
       "<Figure size 432x288 with 1 Axes>"
      ]
     },
     "metadata": {
      "needs_background": "light"
     },
     "output_type": "display_data"
    },
    {
     "data": {
      "image/png": "[encoded data removed]",
      "text/plain": [
       "<Figure size 432x288 with 3 Axes>"
      ]
     },
     "metadata": {
      "needs_background": "light"
     },
     "output_type": "display_data"
    }
   ],
   "source": [
    "import numpy as np\n",
    "import matplotlib.pyplot as plt\n",
    "%matplotlib inline\n",
    "\n",
    "# Load data\n",
    "mnist_digits = np.load('MNIST_Digits_dataset.npz')\n",
    "digits_train = mnist_digits['digits_train']\n",
    "labels_train = mnist_digits['labels_train']\n",
    "\n",
    "# Display an image of a digit\n",
    "plt.figure()\n",
    "plt.imshow(digits_train[0,:,:]) # first example in the training dataset\n",
    "#plt.savefig('digit.png')\n",
    "\n",
    "# Print the class of the first example\n",
    "print('The class label of the first example:', labels_train[0])\n",
    "\n",
    "# Plot multiple images (1 by 3)\n",
    "fig, ax = plt.subplots(nrows=1, ncols=3)\n",
    "ax[0].imshow(digits_train[0,:,:])\n",
    "ax[1].imshow(digits_train[1,:,:])\n",
    "ax[2].imshow(digits_train[2,:,:])\n",
    "#plt.savefig('many_digit.png')"
   ]
  },
  {
   "cell_type": "code",
   "execution_count": null,
   "metadata": {},
   "outputs": [],
   "source": []
  },
  {
   "cell_type": "markdown",
   "metadata": {},
   "source": [
    "# 8 Nearest Neighbors for First 5 Test Digits"
   ]
  },
  {
   "cell_type": "code",
   "execution_count": 7,
   "metadata": {},
   "outputs": [
    {
     "name": "stdout",
     "output_type": "stream",
     "text": [
      "digits_train shape:  (1000, 28, 28)\n",
      "labels_train shape:  (1000, 1)\n",
      "digits_test shape:  (1000, 28, 28)\n",
      "labels_test shape:  (1000, 1)\n"
     ]
    }
   ],
   "source": [
    "q1_digits = np.load('MNIST_Digits_dataset.npz')\n",
    "digits_train = q1_digits['digits_train']\n",
    "labels_train = q1_digits['labels_train']\n",
    "digits_test = q1_digits['digits_test']\n",
    "labels_test = q1_digits['labels_test']\n",
    "\n",
    "print(\"digits_train shape: \",digits_train.shape)\n",
    "print(\"labels_train shape: \",labels_train.shape)\n",
    "print(\"digits_test shape: \",digits_test.shape)\n",
    "print(\"labels_test shape: \",labels_test.shape)"
   ]
  },
  {
   "cell_type": "code",
   "execution_count": 8,
   "metadata": {},
   "outputs": [
    {
     "name": "stdout",
     "output_type": "stream",
     "text": [
      "(1000, 784)\n",
      "(1000, 784)\n"
     ]
    }
   ],
   "source": [
    "digits_train = digits_train.reshape((1000,28*28))\n",
    "print(digits_train.shape)\n",
    "digits_test = digits_test.reshape((1000,28*28))\n",
    "print(digits_test.shape)"
   ]
  },
  {
   "cell_type": "code",
   "execution_count": null,
   "metadata": {},
   "outputs": [],
   "source": []
  },
  {
   "cell_type": "code",
   "execution_count": 9,
   "metadata": {},
   "outputs": [],
   "source": [
    "class k_nearest_neighbour:\n",
    "    def __init__(self,digits_train,labels_train,digits_test):\n",
    "        self.digits_train = digits_train\n",
    "        self.labels_train = labels_train\n",
    "        self.digits_test = digits_test\n",
    "    \n",
    "    #returns index of k nearest neighbours according to error array\n",
    "    def k_NN(self, error, k):\n",
    "        index = np.argpartition(error,k)\n",
    "        index = index[0:k].reshape((1,k))\n",
    "        return index\n",
    "    \n",
    "    #returns train labels of nearest indices\n",
    "    def nearest_class_labels(self,index):\n",
    "        pred_label = np.zeros((index.shape))\n",
    "        for i in range(len(index)):\n",
    "            pred_label[[i]] = np.transpose(self.labels_train[index[i]])\n",
    "        return pred_label\n",
    "    \n",
    "    #prints the test image and its k nearest neighbor images\n",
    "    def print_images(self,index, num, k):\n",
    "        self.digits_train = self.digits_train.reshape((1000,28,28))\n",
    "        self.digits_test = self.digits_test.reshape((1000,28,28))\n",
    "        for i in range(num):\n",
    "            plt.figure()\n",
    "            plt.imshow(self.digits_test[i,:,:])\n",
    "            \n",
    "            fig, ax = plt.subplots(nrows=1, ncols=k)\n",
    "            for j in range(k):\n",
    "                ax[j].imshow(self.digits_train[index[i,j],:,:])\n",
    "        pass\n",
    "    \n",
    "    def main_funct(self,num=5, k=8):\n",
    "        index = np.empty((0,k), int)\n",
    "        \n",
    "        for i in range(num):\n",
    "            error=[]\n",
    "            for j in range(len(self.digits_train)):\n",
    "                err = np.sqrt(np.sum(np.square(self.digits_test[i,:] - self.digits_train[j,:])))\n",
    "                error = np.append(error,err)\n",
    "                \n",
    "            index= np.append(index, self.k_NN(error,k), axis=0)\n",
    "            \n",
    "        print(\"Indices of 8 nearest neighbors: \\n\",index)\n",
    "        print(\"Nearest_class_labels:\\n\",self.nearest_class_labels(index))\n",
    "        self.print_images(index,5,8)\n",
    "        pass"
   ]
  },
  {
   "cell_type": "code",
   "execution_count": 10,
   "metadata": {},
   "outputs": [],
   "source": [
    "model = k_nearest_neighbour(digits_train,labels_train,digits_test)"
   ]
  },
  {
   "cell_type": "code",
   "execution_count": 11,
   "metadata": {},
   "outputs": [
    {
     "name": "stdout",
     "output_type": "stream",
     "text": [
      "Indices of 8 nearest neighbors: \n",
      " [[542 210 320 690 836 192 952  81]\n",
      " [753 723  71  15 193 981 911  79]\n",
      " [638   8 484 454 398 678 112 310]\n",
      " [587 593 951 961 637 475 993 919]\n",
      " [604  26 412 900 576 354 718 304]]\n",
      "Nearest_class_labels:\n",
      " [[0. 0. 0. 5. 5. 0. 0. 0.]\n",
      " [7. 7. 7. 7. 7. 7. 7. 7.]\n",
      " [1. 1. 1. 1. 1. 1. 1. 1.]\n",
      " [1. 1. 1. 1. 1. 1. 1. 1.]\n",
      " [1. 4. 4. 9. 4. 4. 4. 9.]]\n"
     ]
    },
    {
     "data": {
      "image/png": "[encoded data removed]",
      "text/plain": [
       "<Figure size 432x288 with 1 Axes>"
      ]
     },
     "metadata": {
      "needs_background": "light"
     },
     "output_type": "display_data"
    },
    {
     "data": {
      "image/png": "[encoded data removed]",
      "text/plain": [
       "<Figure size 432x288 with 8 Axes>"
      ]
     },
     "metadata": {
      "needs_background": "light"
     },
     "output_type": "display_data"
    },
    {
     "data": {
      "image/png": "[encoded data removed]",
      "text/plain": [
       "<Figure size 432x288 with 1 Axes>"
      ]
     },
     "metadata": {
      "needs_background": "light"
     },
     "output_type": "display_data"
    },
    {
     "data": {
      "image/png": "[encoded data removed]",
      "text/plain": [
       "<Figure size 432x288 with 8 Axes>"
      ]
     },
     "metadata": {
      "needs_background": "light"
     },
     "output_type": "display_data"
    },
    {
     "data": {
      "image/png": "[encoded data removed]",
      "text/plain": [
       "<Figure size 432x288 with 1 Axes>"
      ]
     },
     "metadata": {
      "needs_background": "light"
     },
     "output_type": "display_data"
    },
    {
     "data": {
      "image/png": "[encoded data removed]",
      "text/plain": [
       "<Figure size 432x288 with 8 Axes>"
      ]
     },
     "metadata": {
      "needs_background": "light"
     },
     "output_type": "display_data"
    },
    {
     "data": {
      "image/png": "[encoded data removed]",
      "text/plain": [
       "<Figure size 432x288 with 1 Axes>"
      ]
     },
     "metadata": {
      "needs_background": "light"
     },
     "output_type": "display_data"
    },
    {
     "data": {
      "image/png": "[encoded data removed]",
      "text/plain": [
       "<Figure size 432x288 with 8 Axes>"
      ]
     },
     "metadata": {
      "needs_background": "light"
     },
     "output_type": "display_data"
    },
    {
     "data": {
      "image/png": "[encoded data removed]",
      "text/plain": [
       "<Figure size 432x288 with 1 Axes>"
      ]
     },
     "metadata": {
      "needs_background": "light"
     },
     "output_type": "display_data"
    },
    {
     "data": {
      "image/png": "[encoded data removed]",
      "text/plain": [
       "<Figure size 432x288 with 8 Axes>"
      ]
     },
     "metadata": {
      "needs_background": "light"
     },
     "output_type": "display_data"
    }
   ],
   "source": [
    "model.main_funct()"
   ]
  },
  {
   "cell_type": "code",
   "execution_count": null,
   "metadata": {},
   "outputs": [],
   "source": []
  },
  {
   "cell_type": "markdown",
   "metadata": {},
   "source": [
    "# Classifying all Test Images into 10 Classes\n"
   ]
  },
  {
   "cell_type": "code",
   "execution_count": 13,
   "metadata": {},
   "outputs": [],
   "source": [
    "class k_nearest_neighbour:\n",
    "    def __init__(self,digits_train,labels_train,digits_test,labels_test):\n",
    "        self.digits_train = digits_train\n",
    "        self.labels_train = labels_train\n",
    "        self.digits_test = digits_test\n",
    "        self.labels_test = labels_test\n",
    "    \n",
    "    #returns index of k nearest neighbours according to error array\n",
    "    def k_NN(self, error, k):\n",
    "        idx = np.argpartition(error,k)\n",
    "        idx = idx[0:k].reshape((1,k))\n",
    "        return idx\n",
    "    \n",
    "    #returns train labels of nearest indices\n",
    "    def nearest_class_labels(self,index):\n",
    "        pred_label = np.zeros((index.shape))\n",
    "        for i in range(len(index)):\n",
    "            pred_label[[i]] = np.transpose(self.labels_train[index[i]])\n",
    "        return pred_label\n",
    "    \n",
    "    #returns predicted class labels according to the maximum frequency\n",
    "    def pred_class_label(self,class_labels):\n",
    "        ind = class_labels\n",
    "        ind = ind.astype(int)\n",
    "        pred_class = []\n",
    "        for i in range(len(ind)):\n",
    "            counts = np.bincount(ind[i])\n",
    "            pred_class = np.append(pred_class,np.argmax(counts))\n",
    "        return pred_class\n",
    "    \n",
    "    #percentage of how many samples were correctly classifiesd\n",
    "    def classification_accuracy(self,predicted,actual):\n",
    "        predicted = (predicted.astype(int)).reshape((len(predicted),1))\n",
    "        actual = actual.astype(int)\n",
    "        same = np.sum(predicted == actual)\n",
    "        accuracy = same/len(actual)*100\n",
    "        \n",
    "        print(\"Correctly predicted\", same ,\"out of \", len(actual) ,\"samples.\")\n",
    "        return accuracy\n",
    "\n",
    "    def main_funct(self,num=5, k=8):\n",
    "        self.index = np.empty((0,k), int)\n",
    "        \n",
    "        for i in range(num):\n",
    "            error=[]\n",
    "            for j in range(len(self.digits_train)):\n",
    "                err = np.sqrt(np.sum(np.square(self.digits_test[i,:] - self.digits_train[j,:])))\n",
    "                error = np.append(error,err)\n",
    "                \n",
    "            self.index= np.append(self.index, self.k_NN(error,k), axis=0)\n",
    "\n",
    "        pred = (self.pred_class_label(self.nearest_class_labels(self.index))).astype(int)\n",
    "        accuracy = self.classification_accuracy(pred, self.labels_test) \n",
    "        return accuracy\n",
    "    \n",
    "    \n",
    "\n",
    "       "
   ]
  },
  {
   "cell_type": "code",
   "execution_count": 14,
   "metadata": {},
   "outputs": [],
   "source": [
    "model = k_nearest_neighbour(digits_train,labels_train,digits_test,labels_test)"
   ]
  },
  {
   "cell_type": "code",
   "execution_count": 15,
   "metadata": {
    "scrolled": true
   },
   "outputs": [
    {
     "name": "stdout",
     "output_type": "stream",
     "text": [
      "Correctly predicted 857 out of  1000 samples.\n",
      "Accuracy = 85.7\n"
     ]
    }
   ],
   "source": [
    "accuracy = model.main_funct(1000,10)\n",
    "print(\"Accuracy =\",accuracy)"
   ]
  },
  {
   "cell_type": "code",
   "execution_count": null,
   "metadata": {},
   "outputs": [],
   "source": []
  },
  {
   "cell_type": "markdown",
   "metadata": {},
   "source": [
    "# Effect of Different K in KNN\n"
   ]
  },
  {
   "cell_type": "code",
   "execution_count": null,
   "metadata": {},
   "outputs": [
    {
     "name": "stdout",
     "output_type": "stream",
     "text": [
      "Correctly predicted 883 out of  1000 samples.\n",
      "For k = 1 \n",
      "Accuracy: 88.3\n",
      "Correctly predicted 850 out of  1000 samples.\n",
      "For k = 2 \n",
      "Accuracy: 85.0\n",
      "Correctly predicted 865 out of  1000 samples.\n",
      "For k = 3 \n",
      "Accuracy: 86.5\n",
      "Correctly predicted 866 out of  1000 samples.\n",
      "For k = 4 \n",
      "Accuracy: 86.6\n",
      "Correctly predicted 857 out of  1000 samples.\n",
      "For k = 5 \n",
      "Accuracy: 85.7\n",
      "Correctly predicted 857 out of  1000 samples.\n",
      "For k = 6 \n",
      "Accuracy: 85.7\n",
      "Correctly predicted 853 out of  1000 samples.\n",
      "For k = 7 \n",
      "Accuracy: 85.3\n"
     ]
    }
   ],
   "source": [
    "acc = [0]\n",
    "for i in range(1,11):\n",
    "    accuracy = model.main_funct(1000,i)\n",
    "    print(\"For k =\",i,\"\\nAccuracy:\",accuracy)\n",
    "    acc = np.append(acc, accuracy)\n"
   ]
  },
  {
   "cell_type": "code",
   "execution_count": null,
   "metadata": {},
   "outputs": [],
   "source": [
    "x_axis = range(1,11)\n",
    "plt.plot(x_axis,acc[1:11],color=\"Blue\")\n",
    "plt.xlabel('k')\n",
    "plt.ylabel('Accuracy')\n",
    "plt.show()"
   ]
  },
  {
   "cell_type": "code",
   "execution_count": null,
   "metadata": {},
   "outputs": [],
   "source": []
  },
  {
   "cell_type": "markdown",
   "metadata": {},
   "source": [
    "# Implenting KNN using Different Distance Functions\n"
   ]
  },
  {
   "cell_type": "code",
   "execution_count": 87,
   "metadata": {},
   "outputs": [],
   "source": [
    "class k_nearest_neighbour:\n",
    "    def __init__(self,digits_train,labels_train,digits_test,labels_test):\n",
    "        self.digits_train = digits_train\n",
    "        self.labels_train = labels_train\n",
    "        self.digits_test = digits_test\n",
    "        self.labels_test = labels_test\n",
    "    \n",
    "    #returns index of k nearest neighbours according to error array\n",
    "    def k_NN(self, dist, k):\n",
    "        idx = np.argpartition(dist,k)\n",
    "        idx = idx[0:k].reshape((1,k))\n",
    "        return idx\n",
    "    \n",
    "    #returns train labels of nearest indices\n",
    "    def nearest_class_labels(self,index):\n",
    "        pred_label = np.zeros((index.shape))\n",
    "        for i in range(len(index)):\n",
    "            pred_label[[i]] = np.transpose(self.labels_train[index[i]])\n",
    "        return pred_label\n",
    "    \n",
    "    #returns predicted class labels according to the maximum frequency\n",
    "    def pred_class_label(self,class_labels):\n",
    "        ind = class_labels\n",
    "        ind = ind.astype(int)\n",
    "        pred_class = []\n",
    "        for i in range(len(ind)):\n",
    "            counts = np.bincount(ind[i])\n",
    "            pred_class = np.append(pred_class,np.argmax(counts))\n",
    "        return pred_class\n",
    "    \n",
    "    #percentage of how many samples were correctly classifiesd\n",
    "    def classification_accuracy(self,predicted,actual):\n",
    "        predicted = (predicted.astype(int)).reshape((len(predicted),1))\n",
    "        actual = actual.astype(int)\n",
    "        same = np.sum(predicted == actual)\n",
    "        accuracy = same/len(actual)*100\n",
    "        \n",
    "        print(\"Correctly predicted\", same ,\"out of \", len(actual) ,\"samples.\")\n",
    "        return accuracy\n",
    "\n",
    "    def distance(self,choice,num):\n",
    "        distance=[]\n",
    "        if choice=='l1':\n",
    "            for j in range(len(self.digits_train)):\n",
    "                dist =np.sum(np.abs(self.digits_test[num,:] - self.digits_train[j,:]))\n",
    "                distance = np.append(distance,dist)\n",
    "            \n",
    "        elif choice=='l2':\n",
    "            for j in range(len(self.digits_train)):\n",
    "                dist = np.sqrt(np.sum(np.square(self.digits_test[num,:] - self.digits_train[j,:])))\n",
    "                distance = np.append(distance,dist)\n",
    "                \n",
    "        elif choice=='l3':\n",
    "            for j in range(len(self.digits_train)):\n",
    "                dist = np.cbrt(np.sum(np.power(np.abs(self.digits_test[num,:] - self.digits_train[j,:]),3)))\n",
    "                distance = np.append(distance,dist)\n",
    "                \n",
    "        elif choice=='cosine':\n",
    "            for j in range(len(self.digits_train)):\n",
    "                vec1= self.digits_test[num,:]\n",
    "                vec2= self.digits_train[j,:]\n",
    "                dist = np.dot(vec1,vec2)/((np.linalg.norm(vec1))*(np.linalg.norm(vec2)))\n",
    "                distance = np.append(distance,-1*dist)\n",
    "        return distance   \n",
    "        \n",
    "    def main_funct(self,num=5, k=8,dist='l2'):\n",
    "        self.index = np.empty((0,k), int)\n",
    "        \n",
    "        for i in range(num):\n",
    "            distance = self.distance(dist,i)\n",
    "            self.index= np.append(self.index, self.k_NN(distance,k), axis=0)\n",
    "\n",
    "        pred = (self.pred_class_label(self.nearest_class_labels(self.index))).astype(int)\n",
    "        accuracy = self.classification_accuracy(pred, self.labels_test) \n",
    "        return accuracy\n",
    "    \n",
    "    \n",
    "\n",
    "       "
   ]
  },
  {
   "cell_type": "code",
   "execution_count": 88,
   "metadata": {},
   "outputs": [],
   "source": [
    "model = k_nearest_neighbour(digits_train,labels_train,digits_test,labels_test)"
   ]
  },
  {
   "cell_type": "code",
   "execution_count": 89,
   "metadata": {},
   "outputs": [
    {
     "name": "stdout",
     "output_type": "stream",
     "text": [
      "Correctly predicted 840 out of  1000 samples.\n",
      "Accuracy = 84.0\n"
     ]
    }
   ],
   "source": [
    "accuracy = model.main_funct(1000,10,'l1')\n",
    "print(\"Accuracy =\",accuracy)"
   ]
  },
  {
   "cell_type": "code",
   "execution_count": 90,
   "metadata": {},
   "outputs": [
    {
     "name": "stdout",
     "output_type": "stream",
     "text": [
      "Correctly predicted 857 out of  1000 samples.\n",
      "Accuracy = 85.7\n"
     ]
    }
   ],
   "source": [
    "accuracy = model.main_funct(1000,10,'l2')\n",
    "print(\"Accuracy =\",accuracy)"
   ]
  },
  {
   "cell_type": "code",
   "execution_count": 91,
   "metadata": {},
   "outputs": [
    {
     "name": "stdout",
     "output_type": "stream",
     "text": [
      "Correctly predicted 860 out of  1000 samples.\n",
      "Accuracy = 86.0\n"
     ]
    }
   ],
   "source": [
    "accuracy = model.main_funct(1000,10,'l3')\n",
    "print(\"Accuracy =\",accuracy)"
   ]
  },
  {
   "cell_type": "code",
   "execution_count": 92,
   "metadata": {},
   "outputs": [
    {
     "name": "stdout",
     "output_type": "stream",
     "text": [
      "Correctly predicted 877 out of  1000 samples.\n",
      "Accuracy = 87.7\n"
     ]
    }
   ],
   "source": [
    "accuracy = model.main_funct(1000,10,'cosine')\n",
    "print(\"Accuracy =\",accuracy)"
   ]
  }
 ],
 "metadata": {
  "kernelspec": {
   "display_name": "Python 3",
   "language": "python",
   "name": "python3"
  },
  "language_info": {
   "codemirror_mode": {
    "name": "ipython",
    "version": 3
   },
   "file_extension": ".py",
   "mimetype": "text/x-python",
   "name": "python",
   "nbconvert_exporter": "python",
   "pygments_lexer": "ipython3",
   "version": "3.8.5"
  }
 },
 "nbformat": 4,
 "nbformat_minor": 2
}
